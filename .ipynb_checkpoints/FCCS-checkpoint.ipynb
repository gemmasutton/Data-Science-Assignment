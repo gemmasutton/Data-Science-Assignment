{
 "cells": [
  {
   "cell_type": "code",
   "execution_count": 2,
   "metadata": {},
   "outputs": [],
   "source": [
    "####Import required packages\n",
    "\n",
    "import pandas as pd\n",
    "from pandas import read_csv"
   ]
  },
  {
   "cell_type": "code",
   "execution_count": 3,
   "metadata": {},
   "outputs": [
    {
     "data": {
      "text/html": [
       "<div>\n",
       "<style scoped>\n",
       "    .dataframe tbody tr th:only-of-type {\n",
       "        vertical-align: middle;\n",
       "    }\n",
       "\n",
       "    .dataframe tbody tr th {\n",
       "        vertical-align: top;\n",
       "    }\n",
       "\n",
       "    .dataframe thead th {\n",
       "        text-align: right;\n",
       "    }\n",
       "</style>\n",
       "<table border=\"1\" class=\"dataframe\">\n",
       "  <thead>\n",
       "    <tr style=\"text-align: right;\">\n",
       "      <th></th>\n",
       "      <th>receptor_conc</th>\n",
       "      <th>ligand_conc</th>\n",
       "      <th>cross_conc</th>\n",
       "      <th>receptor_D2</th>\n",
       "      <th>ligand_D2</th>\n",
       "      <th>cross_D2</th>\n",
       "    </tr>\n",
       "    <tr>\n",
       "      <th>RUN</th>\n",
       "      <th></th>\n",
       "      <th></th>\n",
       "      <th></th>\n",
       "      <th></th>\n",
       "      <th></th>\n",
       "      <th></th>\n",
       "    </tr>\n",
       "  </thead>\n",
       "  <tbody>\n",
       "    <tr>\n",
       "      <th>1</th>\n",
       "      <td>668.407</td>\n",
       "      <td>725.512</td>\n",
       "      <td>3679.807</td>\n",
       "      <td>3.459</td>\n",
       "      <td>24.213</td>\n",
       "      <td>3.260</td>\n",
       "    </tr>\n",
       "    <tr>\n",
       "      <th>3</th>\n",
       "      <td>404.111</td>\n",
       "      <td>472.611</td>\n",
       "      <td>731.906</td>\n",
       "      <td>1.860</td>\n",
       "      <td>8.715</td>\n",
       "      <td>20.810</td>\n",
       "    </tr>\n",
       "    <tr>\n",
       "      <th>4</th>\n",
       "      <td>823.645</td>\n",
       "      <td>1036.786</td>\n",
       "      <td>5817.497</td>\n",
       "      <td>18.750</td>\n",
       "      <td>52.099</td>\n",
       "      <td>9.552</td>\n",
       "    </tr>\n",
       "    <tr>\n",
       "      <th>7</th>\n",
       "      <td>796.356</td>\n",
       "      <td>718.167</td>\n",
       "      <td>2141.069</td>\n",
       "      <td>9.827</td>\n",
       "      <td>11.906</td>\n",
       "      <td>8.505</td>\n",
       "    </tr>\n",
       "    <tr>\n",
       "      <th>14</th>\n",
       "      <td>670.637</td>\n",
       "      <td>902.667</td>\n",
       "      <td>2140.729</td>\n",
       "      <td>14.880</td>\n",
       "      <td>23.752</td>\n",
       "      <td>35.314</td>\n",
       "    </tr>\n",
       "  </tbody>\n",
       "</table>\n",
       "</div>"
      ],
      "text/plain": [
       "     receptor_conc  ligand_conc  cross_conc  receptor_D2  ligand_D2  cross_D2\n",
       "RUN                                                                          \n",
       "1          668.407      725.512    3679.807        3.459     24.213     3.260\n",
       "3          404.111      472.611     731.906        1.860      8.715    20.810\n",
       "4          823.645     1036.786    5817.497       18.750     52.099     9.552\n",
       "7          796.356      718.167    2141.069        9.827     11.906     8.505\n",
       "14         670.637      902.667    2140.729       14.880     23.752    35.314"
      ]
     },
     "execution_count": 3,
     "metadata": {},
     "output_type": "execute_result"
    }
   ],
   "source": [
    "####Import .csv file and view data for analysis\n",
    "#Debugging: RUN column indicates the experiment runs (e.g. observation windows) - trivial value, not important for the rest of the analysis but suitable for the index column\n",
    "#Optional: change 'FCCS_run1.csv' to 'FCCS_run2' or 'FCCS_run3' to test the other test data from separate experiments\n",
    "FCCS = pd.read_csv('FCCS_run1.csv', index_col=0)\n",
    "\n",
    "#View the FCCS dataframe to check the formatting is correct. \n",
    "\n",
    "FCCS.head()"
   ]
  },
  {
   "cell_type": "code",
   "execution_count": 40,
   "metadata": {},
   "outputs": [
    {
     "data": {
      "text/html": [
       "<div>\n",
       "<style scoped>\n",
       "    .dataframe tbody tr th:only-of-type {\n",
       "        vertical-align: middle;\n",
       "    }\n",
       "\n",
       "    .dataframe tbody tr th {\n",
       "        vertical-align: top;\n",
       "    }\n",
       "\n",
       "    .dataframe thead th {\n",
       "        text-align: right;\n",
       "    }\n",
       "</style>\n",
       "<table border=\"1\" class=\"dataframe\">\n",
       "  <thead>\n",
       "    <tr style=\"text-align: right;\">\n",
       "      <th></th>\n",
       "      <th>receptor_conc</th>\n",
       "      <th>ligand_conc</th>\n",
       "      <th>cross_conc</th>\n",
       "      <th>receptor_D2</th>\n",
       "      <th>ligand_D2</th>\n",
       "      <th>cross_D2</th>\n",
       "      <th>KD</th>\n",
       "    </tr>\n",
       "    <tr>\n",
       "      <th>RUN</th>\n",
       "      <th></th>\n",
       "      <th></th>\n",
       "      <th></th>\n",
       "      <th></th>\n",
       "      <th></th>\n",
       "      <th></th>\n",
       "      <th></th>\n",
       "    </tr>\n",
       "  </thead>\n",
       "  <tbody>\n",
       "    <tr>\n",
       "      <th>1</th>\n",
       "      <td>668.407</td>\n",
       "      <td>725.512</td>\n",
       "      <td>3679.807</td>\n",
       "      <td>3.459</td>\n",
       "      <td>24.213</td>\n",
       "      <td>3.260</td>\n",
       "      <td>131.783352</td>\n",
       "    </tr>\n",
       "    <tr>\n",
       "      <th>3</th>\n",
       "      <td>404.111</td>\n",
       "      <td>472.611</td>\n",
       "      <td>731.906</td>\n",
       "      <td>1.860</td>\n",
       "      <td>8.715</td>\n",
       "      <td>20.810</td>\n",
       "      <td>260.945127</td>\n",
       "    </tr>\n",
       "    <tr>\n",
       "      <th>4</th>\n",
       "      <td>823.645</td>\n",
       "      <td>1036.786</td>\n",
       "      <td>5817.497</td>\n",
       "      <td>18.750</td>\n",
       "      <td>52.099</td>\n",
       "      <td>9.552</td>\n",
       "      <td>146.788835</td>\n",
       "    </tr>\n",
       "    <tr>\n",
       "      <th>7</th>\n",
       "      <td>796.356</td>\n",
       "      <td>718.167</td>\n",
       "      <td>2141.069</td>\n",
       "      <td>9.827</td>\n",
       "      <td>11.906</td>\n",
       "      <td>8.505</td>\n",
       "      <td>267.117314</td>\n",
       "    </tr>\n",
       "    <tr>\n",
       "      <th>14</th>\n",
       "      <td>670.637</td>\n",
       "      <td>902.667</td>\n",
       "      <td>2140.729</td>\n",
       "      <td>14.880</td>\n",
       "      <td>23.752</td>\n",
       "      <td>35.314</td>\n",
       "      <td>282.783056</td>\n",
       "    </tr>\n",
       "  </tbody>\n",
       "</table>\n",
       "</div>"
      ],
      "text/plain": [
       "     receptor_conc  ligand_conc  cross_conc  receptor_D2  ligand_D2  cross_D2  \\\n",
       "RUN                                                                             \n",
       "1          668.407      725.512    3679.807        3.459     24.213     3.260   \n",
       "3          404.111      472.611     731.906        1.860      8.715    20.810   \n",
       "4          823.645     1036.786    5817.497       18.750     52.099     9.552   \n",
       "7          796.356      718.167    2141.069        9.827     11.906     8.505   \n",
       "14         670.637      902.667    2140.729       14.880     23.752    35.314   \n",
       "\n",
       "             KD  \n",
       "RUN              \n",
       "1    131.783352  \n",
       "3    260.945127  \n",
       "4    146.788835  \n",
       "7    267.117314  \n",
       "14   282.783056  "
      ]
     },
     "execution_count": 40,
     "metadata": {},
     "output_type": "execute_result"
    }
   ],
   "source": [
    "#### Calculating the Dissociation Constant, KD\n",
    "    #Using the ligand receptor and cross concentration values, KD can be determined\n",
    "    #The KD values are added to the FCCS dataframe \n",
    "\n",
    "FCCS[\"KD\"] = (FCCS[\"receptor_conc\"] * FCCS[\"ligand_conc\"]) / FCCS[\"cross_conc\"]\n",
    "\n",
    "#View FCCS dataframe to confirm addition of KD column\n",
    "\n",
    "FCCS.head()"
   ]
  },
  {
   "cell_type": "code",
   "execution_count": 41,
   "metadata": {},
   "outputs": [
    {
     "name": "stdout",
     "output_type": "stream",
     "text": [
      "The average KD is 170.23 ± 15.19 nM/L\n"
     ]
    }
   ],
   "source": [
    "####print the average dissociation constant, KD, with standard error rounded to 2dp\n",
    "#Debugging: units added here in nM/L, consistent with this FCCS experiment. If data is recorded in different units, the units can be edited here\n",
    "\n",
    "print(\"The average KD is\", round(FCCS[\"KD\"].mean(), 2), \"±\", round(FCCS[\"KD\"].sem(), 2), \"nM/L\")"
   ]
  },
  {
   "cell_type": "code",
   "execution_count": 42,
   "metadata": {},
   "outputs": [
    {
     "data": {
      "text/html": [
       "<div>\n",
       "<style scoped>\n",
       "    .dataframe tbody tr th:only-of-type {\n",
       "        vertical-align: middle;\n",
       "    }\n",
       "\n",
       "    .dataframe tbody tr th {\n",
       "        vertical-align: top;\n",
       "    }\n",
       "\n",
       "    .dataframe thead th {\n",
       "        text-align: right;\n",
       "    }\n",
       "</style>\n",
       "<table border=\"1\" class=\"dataframe\">\n",
       "  <thead>\n",
       "    <tr style=\"text-align: right;\">\n",
       "      <th></th>\n",
       "      <th>Mean</th>\n",
       "      <th>S.E.</th>\n",
       "    </tr>\n",
       "  </thead>\n",
       "  <tbody>\n",
       "    <tr>\n",
       "      <th>Receptor</th>\n",
       "      <td>666.06</td>\n",
       "      <td>60.33</td>\n",
       "    </tr>\n",
       "    <tr>\n",
       "      <th>Ligand</th>\n",
       "      <td>649.86</td>\n",
       "      <td>55.43</td>\n",
       "    </tr>\n",
       "    <tr>\n",
       "      <th>Cross</th>\n",
       "      <td>2716.91</td>\n",
       "      <td>330.18</td>\n",
       "    </tr>\n",
       "  </tbody>\n",
       "</table>\n",
       "</div>"
      ],
      "text/plain": [
       "             Mean    S.E.\n",
       "Receptor   666.06   60.33\n",
       "Ligand     649.86   55.43\n",
       "Cross     2716.91  330.18"
      ]
     },
     "execution_count": 42,
     "metadata": {},
     "output_type": "execute_result"
    }
   ],
   "source": [
    "####Create a summary dataframe for concentrations of receptor, ligand and cross for easy comparison. \n",
    "#Mean concentrations of receptor, ligand, cross with standard error\n",
    "#Debugging: standard error calculated instead of standard deviation to take into account the number of observations\n",
    "        #to calculate standard deviation, replace .sem() with .std()\n",
    "#Summary dataframe viewed with values rounded to 2dp\n",
    "\n",
    "FCCS_conc = pd.DataFrame(columns=['Mean', 'S.E.'])\n",
    "\n",
    "FCCS_conc.loc['Receptor'] = [FCCS['receptor_conc'].mean(), FCCS['receptor_conc'].sem()]\n",
    "FCCS_conc.loc['Ligand'] = [FCCS['ligand_conc'].mean(), FCCS['ligand_conc'].sem()]\n",
    "FCCS_conc.loc['Cross'] = [FCCS['cross_conc'].mean(), FCCS['cross_conc'].sem()]\n",
    "\n",
    "\n",
    "FCCS_conc.round(2)"
   ]
  },
  {
   "cell_type": "code",
   "execution_count": 43,
   "metadata": {},
   "outputs": [],
   "source": [
    "####Save Dataframe - Optional:\n",
    "    #Save the FCCS concentration summary dataframe to directory as .csv file: remove the # below\n",
    "\n",
    "#FCCS_conc.to_csv(\"FCCS concentrations summary.csv\")"
   ]
  },
  {
   "cell_type": "code",
   "execution_count": 44,
   "metadata": {},
   "outputs": [
    {
     "data": {
      "image/png": "[encoded data removed]",
      "text/plain": [
       "<Figure size 432x288 with 1 Axes>"
      ]
     },
     "metadata": {
      "needs_background": "light"
     },
     "output_type": "display_data"
    }
   ],
   "source": [
    "####Draw a bar plot of mean concentrations with standard error for error bars\n",
    "#Debugging: capsize=4 is required for notches on error bars\n",
    "#Optional: If concentration was recorded in alternative units, they can be edited here in the ylabel\n",
    "\n",
    "conc_bar = FCCS_conc.plot.bar(y = \"Mean\", yerr = \"S.E.\", capsize=4, legend = False, ylabel = \"Concentration nM/L\") #don't specify x, it uses index"
   ]
  },
  {
   "cell_type": "code",
   "execution_count": 45,
   "metadata": {},
   "outputs": [],
   "source": [
    "####Save Figure - Optional:\n",
    "    #Save the summary bar chart of FCCS concentrations as .png file to directory. \n",
    "    #can be used in presentations/publications\n",
    "    #remove the # below\n",
    "\n",
    "#conc_bar.get_figure().savefig(\"FCCS_conc.png\")"
   ]
  },
  {
   "cell_type": "code",
   "execution_count": 46,
   "metadata": {},
   "outputs": [
    {
     "data": {
      "text/html": [
       "<div>\n",
       "<style scoped>\n",
       "    .dataframe tbody tr th:only-of-type {\n",
       "        vertical-align: middle;\n",
       "    }\n",
       "\n",
       "    .dataframe tbody tr th {\n",
       "        vertical-align: top;\n",
       "    }\n",
       "\n",
       "    .dataframe thead th {\n",
       "        text-align: right;\n",
       "    }\n",
       "</style>\n",
       "<table border=\"1\" class=\"dataframe\">\n",
       "  <thead>\n",
       "    <tr style=\"text-align: right;\">\n",
       "      <th></th>\n",
       "      <th>Mean</th>\n",
       "      <th>S.E.</th>\n",
       "    </tr>\n",
       "  </thead>\n",
       "  <tbody>\n",
       "    <tr>\n",
       "      <th>Receptor</th>\n",
       "      <td>18.79</td>\n",
       "      <td>1.94</td>\n",
       "    </tr>\n",
       "    <tr>\n",
       "      <th>Ligand</th>\n",
       "      <td>37.34</td>\n",
       "      <td>4.15</td>\n",
       "    </tr>\n",
       "    <tr>\n",
       "      <th>Cross</th>\n",
       "      <td>20.78</td>\n",
       "      <td>2.35</td>\n",
       "    </tr>\n",
       "  </tbody>\n",
       "</table>\n",
       "</div>"
      ],
      "text/plain": [
       "           Mean  S.E.\n",
       "Receptor  18.79  1.94\n",
       "Ligand    37.34  4.15\n",
       "Cross     20.78  2.35"
      ]
     },
     "execution_count": 46,
     "metadata": {},
     "output_type": "execute_result"
    }
   ],
   "source": [
    "####Create a summary dataframe for diffusion rates of receptor, ligand and cross for easy comparison. \n",
    "#Mean diffusion rates of receptor, ligand, cross and with standard error\n",
    "#Debugging: standard error calculated instead of standard deviation\n",
    "        #to calculate standard deviation, replace .sem() with .std()\n",
    "#Summary dataframe viewed with values rounded to 2dp\n",
    "\n",
    "FCCS_D2 = pd.DataFrame(columns=['Mean', 'S.E.'])\n",
    "\n",
    "FCCS_D2.loc['Receptor'] = [FCCS['receptor_D2'].mean(), FCCS['receptor_D2'].sem()]\n",
    "FCCS_D2.loc['Ligand'] = [FCCS['ligand_D2'].mean(), FCCS['ligand_D2'].sem()]\n",
    "FCCS_D2.loc['Cross'] = [FCCS['cross_D2'].mean(), FCCS['cross_D2'].sem()]\n",
    "\n",
    "\n",
    "FCCS_D2.round(2)"
   ]
  },
  {
   "cell_type": "code",
   "execution_count": 36,
   "metadata": {},
   "outputs": [],
   "source": [
    "####Save Dataframe - Optional:\n",
    "    #Save the FCCS diffusion rate summary dataframe as a .csv file: remove the # below\n",
    "\n",
    "#FCCS_D2.to_csv(\"FCCS diffusion summary.csv\")"
   ]
  },
  {
   "cell_type": "code",
   "execution_count": 47,
   "metadata": {},
   "outputs": [
    {
     "data": {
      "image/png": "[encoded data removed]",
      "text/plain": [
       "<Figure size 432x288 with 1 Axes>"
      ]
     },
     "metadata": {
      "needs_background": "light"
     },
     "output_type": "display_data"
    }
   ],
   "source": [
    "####Draw bar plot of mean concentrations with standard error for error bars\n",
    "#Optional: If diffusion rates was recorded in alternative units, they can be edited here in the ylabel\n",
    "\n",
    "D2_bar = FCCS_D2.plot.bar(y = \"Mean\", yerr = \"S.E.\", capsize=4, legend = False, ylabel = \"Rate of diffusion μ²/s\") #don't specify x, it uses index"
   ]
  },
  {
   "cell_type": "code",
   "execution_count": 48,
   "metadata": {},
   "outputs": [],
   "source": [
    "####Save Figure - Optional:\n",
    "    #Save the summary bar chart of FCCS diffusion rates as .png file to directory. \n",
    "    #can be used in presentations/publications\n",
    "    #remove the # below\n",
    "\n",
    "#D2_bar.get_figure().savefig(\"FCCS_D2.png\")"
   ]
  }
 ],
 "metadata": {
  "kernelspec": {
   "display_name": "Python 3",
   "language": "python",
   "name": "python3"
  },
  "language_info": {
   "codemirror_mode": {
    "name": "ipython",
    "version": 3
   },
   "file_extension": ".py",
   "mimetype": "text/x-python",
   "name": "python",
   "nbconvert_exporter": "python",
   "pygments_lexer": "ipython3",
   "version": "3.8.5"
  }
 },
 "nbformat": 4,
 "nbformat_minor": 4
}
